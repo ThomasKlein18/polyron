{
 "cells": [
  {
   "cell_type": "markdown",
   "metadata": {},
   "source": [
    "This is my testing ground, named after the SpaceX testing ground in Texas. I use it to test stuff that I'm not sure about, which usually involves the dimensions of matrices resulting from tf-ops."
   ]
  },
  {
   "cell_type": "code",
   "execution_count": 30,
   "metadata": {},
   "outputs": [
    {
     "name": "stdout",
     "output_type": "stream",
     "text": [
      "[[0.]\n",
      " [1.]\n",
      " [2.]\n",
      " [3.]\n",
      " [4.]]\n",
      "[[ 0.  1.  2.]\n",
      " [ 3.  4.  5.]\n",
      " [ 6.  7.  8.]\n",
      " [ 9. 10. 11.]\n",
      " [12. 13. 14.]]\n",
      "[[  0.]\n",
      " [ 12.]\n",
      " [ 52.]\n",
      " [138.]\n",
      " [288.]]\n"
     ]
    }
   ],
   "source": [
    "import tensorflow as tf\n",
    "import numpy as np\n",
    "\n",
    "n = 5\n",
    "d = 3\n",
    "\n",
    "x = tf.constant(np.reshape(np.arange(n),[n,1]), dtype=tf.float32)\n",
    "coefficients = tf.constant(np.reshape(np.arange(n*d),[n,d]), dtype=tf.float32)\n",
    "summe = tf.constant(np.zeros((5,1)), dtype=tf.float32)\n",
    "for i in range(d):\n",
    "    summe += tf.multiply(tf.math.pow(x,tf.constant(i, dtype=tf.float32)), tf.reshape(coefficients[:,i], [n,1]))\n",
    "\n",
    "with tf.Session() as sess:\n",
    "    _x, _co, _sum = sess.run([x,coefficients,summe])\n",
    "    print(_x)\n",
    "    print(_co)\n",
    "    print(_sum)"
   ]
  },
  {
   "cell_type": "code",
   "execution_count": 34,
   "metadata": {},
   "outputs": [
    {
     "name": "stdout",
     "output_type": "stream",
     "text": [
      "[3. 3. 3. 3. 3. 3. 3. 3. 3. 3. 3. 3. 3. 3. 3. 3. 3. 3. 3. 3. 3. 3. 3. 3.\n",
      " 3. 3. 3. 3. 3. 3. 3. 3.]\n"
     ]
    }
   ],
   "source": [
    "import tensorflow as tf\n",
    "\n",
    "a = tf.constant(np.ones((32)), dtype=tf.float32)\n",
    "b = tf.constant(np.ones((32))*3, dtype=tf.float32)\n",
    "res = tf.multiply(a,b)\n",
    "\n",
    "with tf.Session() as sess:\n",
    "    _res = sess.run(res)\n",
    "    print(_res)"
   ]
  },
  {
   "cell_type": "code",
   "execution_count": null,
   "metadata": {},
   "outputs": [],
   "source": []
  }
 ],
 "metadata": {
  "kernelspec": {
   "display_name": "Python 3",
   "language": "python",
   "name": "python3"
  },
  "language_info": {
   "codemirror_mode": {
    "name": "ipython",
    "version": 3
   },
   "file_extension": ".py",
   "mimetype": "text/x-python",
   "name": "python",
   "nbconvert_exporter": "python",
   "pygments_lexer": "ipython3",
   "version": "3.6.5"
  }
 },
 "nbformat": 4,
 "nbformat_minor": 2
}
