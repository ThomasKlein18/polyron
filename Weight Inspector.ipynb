{
 "cells": [
  {
   "cell_type": "code",
   "execution_count": 41,
   "metadata": {},
   "outputs": [],
   "source": [
    "import numpy as np \n",
    "import tensorflow as tf\n",
    "from polyron_layer import Polyron\n",
    "from tensorflow.keras.layers import Dense, Flatten"
   ]
  },
  {
   "cell_type": "code",
   "execution_count": 42,
   "metadata": {},
   "outputs": [
    {
     "name": "stdout",
     "output_type": "stream",
     "text": [
      "_________________________________________________________________\n",
      "Layer (type)                 Output Shape              Param #   \n",
      "=================================================================\n",
      "flatten_8 (Flatten)          (None, 784)               0         \n",
      "_________________________________________________________________\n",
      "polyron_12 (Polyron)         (None, 128)               640       \n",
      "_________________________________________________________________\n",
      "dense_21 (Dense)             (None, 10)                1290      \n",
      "=================================================================\n",
      "Total params: 1,930\n",
      "Trainable params: 1,930\n",
      "Non-trainable params: 0\n",
      "_________________________________________________________________\n"
     ]
    }
   ],
   "source": [
    "archive_path = \"/Users/thomasklein/Projects/Polyron/archive/\"\n",
    "name = \"first_test\"\n",
    "\n",
    "model = tf.keras.Sequential()\n",
    "model.add(Flatten(input_shape=(28, 28)))\n",
    "model.add(Polyron(128, degree=5, initializer=tf.keras.initializers.TruncatedNormal()))\n",
    "#model.add(Dense(128, activation='relu'))\n",
    "model.add(Dense(10, activation='softmax'))\n",
    "\n",
    "model.load_weights(archive_path+name+\".h5\")\n",
    "#model = tf.keras.models.load_model(archive_path+name+\".h5\", custom_objects={\"Polyron\":p})\n",
    "model.summary()\n",
    "polyron = model.get_layer(\"polyron\", 1) # first argument is ignored anyway\n",
    "variables = polyron.get_weights()\n"
   ]
  },
  {
   "cell_type": "code",
   "execution_count": 44,
   "metadata": {
    "scrolled": false
   },
   "outputs": [
    {
     "name": "stdout",
     "output_type": "stream",
     "text": [
      "(128, 5)\n",
      "1\n"
     ]
    }
   ],
   "source": [
    "for var in variables:\n",
    "    print(var.shape)\n",
    "print(len(variables))"
   ]
  },
  {
   "cell_type": "code",
   "execution_count": null,
   "metadata": {},
   "outputs": [],
   "source": [
    "def eval_polynomial(x, coeff):\n",
    "    \"\"\"\n",
    "    evaluates a set of x-values (x) through a polynomial that is given\n",
    "    through the coefficients given by coeff\n",
    "    \"\"\"\n",
    "    y = 0\n",
    "    for i in range(len(coeff)):\n",
    "            y += coeff[i] * (x ** i)\n",
    "    return y\n",
    "\n",
    "def plot_polynomials(coeff):\n",
    "    \"\"\"\n",
    "    plots a bunch of polynomials as given by coeff\n",
    "    \"\"\"\n",
    "    neurons, degree = coeff.shape\n",
    "    xs = np.arange(start=-1, stop=1, step=0.005)\n",
    "\n",
    "    plt.figure(figsize=(20,50))\n",
    "\n",
    "    for n in range(neurons): \n",
    "        c = coeff[n,:]\n",
    "        ys = eval_polynomial(xs,c)\n",
    "        plt.subplot(neurons,1, n+1)#rows, columns\n",
    "        plt.plot(xs,ys)\n",
    "    \n",
    "    plt.show()\n",
    "\n"
   ]
  }
 ],
 "metadata": {
  "kernelspec": {
   "display_name": "Python 3",
   "language": "python",
   "name": "python3"
  },
  "language_info": {
   "codemirror_mode": {
    "name": "ipython",
    "version": 3
   },
   "file_extension": ".py",
   "mimetype": "text/x-python",
   "name": "python",
   "nbconvert_exporter": "python",
   "pygments_lexer": "ipython3",
   "version": "3.6.5"
  }
 },
 "nbformat": 4,
 "nbformat_minor": 2
}
